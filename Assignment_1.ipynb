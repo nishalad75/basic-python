{
  "nbformat": 4,
  "nbformat_minor": 0,
  "metadata": {
    "colab": {
      "name": "Assignment 1",
      "provenance": [],
      "collapsed_sections": []
    },
    "kernelspec": {
      "name": "python3",
      "display_name": "Python 3"
    },
    "language_info": {
      "name": "python"
    }
  },
  "cells": [
    {
      "cell_type": "code",
      "execution_count": null,
      "metadata": {
        "colab": {
          "base_uri": "https://localhost:8080/"
        },
        "id": "WJd81cvBm2FA",
        "outputId": "17b4a0f8-ea2c-4423-f28a-0f7b7a7d2579"
      },
      "outputs": [
        {
          "output_type": "stream",
          "name": "stdout",
          "text": [
            "<class 'list'>\n"
          ]
        }
      ],
      "source": [
        "###Creat list\n",
        "\n",
        "A=[\"Nisha\",\"Tybsc\",\"9146\"]\n",
        "type(A)\n",
        "print(type(A))"
      ]
    },
    {
      "cell_type": "code",
      "source": [
        "##For list A\n",
        "A.append(\"Nisha\")  #Adds an element at the end of the list\n",
        "print(A)\n"
      ],
      "metadata": {
        "colab": {
          "base_uri": "https://localhost:8080/"
        },
        "id": "Gm6WaTPRhiL6",
        "outputId": "1213d7c1-dc84-48bd-85e9-9492db5adbde"
      },
      "execution_count": null,
      "outputs": [
        {
          "output_type": "stream",
          "name": "stdout",
          "text": [
            "['Nisha', 'Tybsc', '9146', 'Nisha']\n"
          ]
        }
      ]
    },
    {
      "cell_type": "code",
      "source": [
        "A.insert(3,\"statistics\")  #Adds an element at the specified position\n",
        "print(A)\n"
      ],
      "metadata": {
        "colab": {
          "base_uri": "https://localhost:8080/"
        },
        "id": "X_AFowM_hpEs",
        "outputId": "003aec2f-2184-4f7f-801d-0a65fa5990f8"
      },
      "execution_count": null,
      "outputs": [
        {
          "output_type": "stream",
          "name": "stdout",
          "text": [
            "['Nisha', 'Tybsc', '9146', 'statistics', 'Nisha']\n"
          ]
        }
      ]
    },
    {
      "cell_type": "code",
      "source": [
        "X=A.count(\"Nisha\") #Returns the number of elements with the specified value\n",
        "print(X)\n",
        "print(A[:1])  #for first  index values\n",
        "print(A[1:])  #from first index values onward"
      ],
      "metadata": {
        "colab": {
          "base_uri": "https://localhost:8080/"
        },
        "id": "ESxSrBjyhuo4",
        "outputId": "e399c357-994e-4ea0-c39c-72a51fd77d49"
      },
      "execution_count": null,
      "outputs": [
        {
          "output_type": "stream",
          "name": "stdout",
          "text": [
            "2\n",
            "['Nisha']\n",
            "['Tybsc', '9146', 'statistics', 'Nisha']\n"
          ]
        }
      ]
    },
    {
      "cell_type": "code",
      "source": [
        "A.extend([1,2,3])  #Add the elements of a list (or any iterable), to the end of the current list\n",
        "print(A)\n",
        "A.copy()    #Returns a copy of the list\n",
        "print(A)\n",
        "A.clear()   #Removes all the elements from the list\n",
        "print(A)"
      ],
      "metadata": {
        "colab": {
          "base_uri": "https://localhost:8080/"
        },
        "id": "IaYDxGyJh0-6",
        "outputId": "13e347d6-93a9-41c6-952d-a2f49833a16d"
      },
      "execution_count": null,
      "outputs": [
        {
          "output_type": "stream",
          "name": "stdout",
          "text": [
            "['Nisha', 'Tybsc', '9146', 'statistics', 'Nisha', 1, 2, 3]\n",
            "['Nisha', 'Tybsc', '9146', 'statistics', 'Nisha', 1, 2, 3]\n",
            "[]\n"
          ]
        }
      ]
    },
    {
      "cell_type": "code",
      "source": [
        "B=[\"SP CLG\",\"Tilak road pune\"]\n",
        "type(B)\n",
        "print(type(B))"
      ],
      "metadata": {
        "id": "edgFMGBah66Q"
      },
      "execution_count": null,
      "outputs": []
    },
    {
      "cell_type": "code",
      "source": [
        "B.append(\"SP CLG\")  #Adds an element at the end of the list\n",
        "print(B)"
      ],
      "metadata": {
        "id": "ooOPFJoYiIMV"
      },
      "execution_count": null,
      "outputs": []
    },
    {
      "cell_type": "code",
      "source": [
        "B.insert(1,\"Sadashiv peth\")  #Adds an element at the specified position\n",
        "print(B)"
      ],
      "metadata": {
        "id": "LIR-ErJ5iJXE"
      },
      "execution_count": null,
      "outputs": []
    },
    {
      "cell_type": "code",
      "source": [
        "Y=B.count(\"SP CLG\")  #Returns the number of elements with the specified value\n",
        "print(Y)\n",
        "print(B[:1])  #for first  index values\n",
        "print(B[1:])  #from first index values onward"
      ],
      "metadata": {
        "id": "1UYR5Nd6iS43"
      },
      "execution_count": null,
      "outputs": []
    },
    {
      "cell_type": "code",
      "source": [
        "\n",
        "B.extend([1,2,3])  #Add the elements of a list (or any iterable), to the end of the current list\n",
        "print(B)\n",
        "B.copy()   #Returns a copy of the list\n",
        "print(B)\n",
        "B.clear()  #Removes all the elements from the list\n",
        "print(B)\n"
      ],
      "metadata": {
        "id": "tpcrJVndiY7C"
      },
      "execution_count": null,
      "outputs": []
    },
    {
      "cell_type": "code",
      "source": [
        "## Creat tuple\n",
        "A=(\"Nisha\",\"Tybsc\",\"9146\")\n",
        "print(type(A))\n",
        "print(A)\n",
        "m=A.count(\"Nisha\")  #Returns the number of elements with the specified value\n",
        "print(m)\n"
      ],
      "metadata": {
        "colab": {
          "base_uri": "https://localhost:8080/"
        },
        "id": "mgMMW6Peew8o",
        "outputId": "d203bdf0-2a08-490f-e3ac-0f2427293fd7"
      },
      "execution_count": null,
      "outputs": [
        {
          "output_type": "stream",
          "name": "stdout",
          "text": [
            "<class 'tuple'>\n",
            "('Nisha', 'Tybsc', '9146')\n",
            "1\n"
          ]
        }
      ]
    },
    {
      "cell_type": "code",
      "source": [
        "print(A[1:])  #from first index values onward\n",
        "print(A[:2])  #for second  index values\n",
        "len(A)  #no. of elements in list"
      ],
      "metadata": {
        "colab": {
          "base_uri": "https://localhost:8080/"
        },
        "id": "aAzp4diOlAff",
        "outputId": "4a85c88a-9cfe-4c93-c93e-a4bb064615c4"
      },
      "execution_count": null,
      "outputs": [
        {
          "output_type": "stream",
          "name": "stdout",
          "text": [
            "('Tybsc', '9146')\n",
            "('Nisha', 'Tybsc')\n"
          ]
        },
        {
          "output_type": "execute_result",
          "data": {
            "text/plain": [
              "3"
            ]
          },
          "metadata": {},
          "execution_count": 20
        }
      ]
    },
    {
      "cell_type": "code",
      "source": [
        "A=(\"Nisha\",\"Tybsc\",\"9146\")\n",
        "print(A)\n",
        "del(A) #Delete list"
      ],
      "metadata": {
        "colab": {
          "base_uri": "https://localhost:8080/"
        },
        "id": "qoiIbyiZl_M7",
        "outputId": "46d5d861-fe62-4fe2-bd12-1071d56b3c11"
      },
      "execution_count": null,
      "outputs": [
        {
          "output_type": "stream",
          "name": "stdout",
          "text": [
            "('Nisha', 'Tybsc', '9146')\n"
          ]
        }
      ]
    },
    {
      "cell_type": "code",
      "source": [
        "B=[\"SP CLG\",\"Tilak road pune\"]\n",
        "type(B)\n",
        "print(type(B))\n",
        "t=B.count(\"SP CLG\")\n",
        "print(t)"
      ],
      "metadata": {
        "colab": {
          "base_uri": "https://localhost:8080/"
        },
        "id": "txXbr_uHmvAr",
        "outputId": "586e73d2-a980-4e8f-eaa9-06e0a230a290"
      },
      "execution_count": null,
      "outputs": [
        {
          "output_type": "stream",
          "name": "stdout",
          "text": [
            "<class 'list'>\n",
            "1\n"
          ]
        }
      ]
    },
    {
      "cell_type": "code",
      "source": [
        "print(B[1:])  #from first index values onward\n",
        "print(B[:2])  #for second  index values\n",
        "len(B)  #no. of elements in list"
      ],
      "metadata": {
        "colab": {
          "base_uri": "https://localhost:8080/"
        },
        "id": "WciRRi2UnN90",
        "outputId": "7b6592ca-1526-4198-da0b-11c0add39147"
      },
      "execution_count": null,
      "outputs": [
        {
          "output_type": "stream",
          "name": "stdout",
          "text": [
            "['Tilak road pune']\n",
            "['SP CLG', 'Tilak road pune']\n"
          ]
        },
        {
          "output_type": "execute_result",
          "data": {
            "text/plain": [
              "2"
            ]
          },
          "metadata": {},
          "execution_count": 27
        }
      ]
    }
  ]
}