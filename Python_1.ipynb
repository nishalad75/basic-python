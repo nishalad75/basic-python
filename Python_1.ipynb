{
  "nbformat": 4,
  "nbformat_minor": 0,
  "metadata": {
    "colab": {
      "name": "Python 1",
      "provenance": [],
      "collapsed_sections": []
    },
    "kernelspec": {
      "name": "python3",
      "display_name": "Python 3"
    },
    "language_info": {
      "name": "python"
    }
  },
  "cells": [
    {
      "cell_type": "code",
      "source": [
        "a=b=c=d=10\n",
        "print(a)\n",
        "print(b)\n",
        "print(c)\n",
        "print(d)"
      ],
      "metadata": {
        "colab": {
          "base_uri": "https://localhost:8080/"
        },
        "id": "33OclOrhT5sI",
        "outputId": "8fc5763b-583b-466a-ec72-38f1d0b0bcbd"
      },
      "execution_count": null,
      "outputs": [
        {
          "output_type": "stream",
          "name": "stdout",
          "text": [
            "10\n",
            "10\n",
            "10\n",
            "10\n"
          ]
        }
      ]
    },
    {
      "cell_type": "code",
      "source": [
        "a,b,c=5,3,2\n",
        "a,b,c\n",
        "print(a)\n",
        "print(b)\n",
        "print(c)"
      ],
      "metadata": {
        "colab": {
          "base_uri": "https://localhost:8080/"
        },
        "id": "S0MQ408dU7VB",
        "outputId": "88591c4f-3dad-475d-c7ab-2eb74d6532b1"
      },
      "execution_count": null,
      "outputs": [
        {
          "output_type": "stream",
          "name": "stdout",
          "text": [
            "5\n",
            "3\n",
            "2\n"
          ]
        }
      ]
    },
    {
      "cell_type": "code",
      "source": [
        "x,y=15,2\n",
        "print(\"Addition\",x+y)\n",
        "print(\"Subtraction\",x-y)\n",
        "print(\"Multiplication\",x*y)\n",
        "print(\"Division\",x/y)\n",
        "print(\"Power\",x**y)\n",
        "print(\"Modulus\",x%y)\n",
        "print(\"Floor division\",x//y)\n",
        "print(\"sqrt=\",x)"
      ],
      "metadata": {
        "colab": {
          "base_uri": "https://localhost:8080/"
        },
        "id": "qyzndjV364U1",
        "outputId": "46f33fec-013e-466e-feda-04c29a74817f"
      },
      "execution_count": 3,
      "outputs": [
        {
          "output_type": "stream",
          "name": "stdout",
          "text": [
            "Addition 17\n",
            "Subtraction 13\n",
            "Multiplication 30\n",
            "Division 7.5\n",
            "Power 225\n",
            "Modulus 1\n",
            "Floor division 7\n",
            "sqrt= 15\n"
          ]
        }
      ]
    },
    {
      "cell_type": "code",
      "source": [
        "name=\"Nisha\"\n",
        "x=(\"\"\"therewillbenochancetofail\"\"\")\n",
        "print(x)\n",
        "name\n",
        "a=10\n",
        "print(a)\n"
      ],
      "metadata": {
        "colab": {
          "base_uri": "https://localhost:8080/"
        },
        "id": "Y1NbSxKkVRvF",
        "outputId": "2736d234-bd8f-46ec-a0a3-88cba20f2ce9"
      },
      "execution_count": null,
      "outputs": [
        {
          "output_type": "stream",
          "name": "stdout",
          "text": [
            "therewillbenochancetofail\n",
            "10\n"
          ]
        }
      ]
    },
    {
      "cell_type": "code",
      "source": [
        "name=\"Nisha\"\n",
        "Clg=\" I am from SP clg\"\n",
        "city=\"SPC IS IN PUNE\"\n",
        "print(name)\n",
        "print(Clg)\n",
        "print(city)\n"
      ],
      "metadata": {
        "colab": {
          "base_uri": "https://localhost:8080/"
        },
        "id": "AoLr1yPRZ561",
        "outputId": "f9b7d113-76a9-456b-a20c-e37308ce5cac"
      },
      "execution_count": null,
      "outputs": [
        {
          "output_type": "stream",
          "name": "stdout",
          "text": [
            "Nisha\n",
            " I am from SP clg\n",
            "SPC IS IN PUNE\n"
          ]
        }
      ]
    },
    {
      "cell_type": "code",
      "source": [
        "a=10\n",
        "name=\"Prajakta\"\n",
        "print(a)\n",
        "print(name)"
      ],
      "metadata": {
        "colab": {
          "base_uri": "https://localhost:8080/"
        },
        "id": "FtIqm1fIa5eh",
        "outputId": "ce84671d-23e2-4326-b8a7-4a9c62f85ccc"
      },
      "execution_count": null,
      "outputs": [
        {
          "output_type": "stream",
          "name": "stdout",
          "text": [
            "10\n",
            "Prajakta\n"
          ]
        }
      ]
    },
    {
      "cell_type": "code",
      "source": [
        "a,b,c=\"Apple\",\"Mango\",\"Banana\"\n",
        "print(a)\n",
        "print(b)\n",
        "print(c)"
      ],
      "metadata": {
        "colab": {
          "base_uri": "https://localhost:8080/"
        },
        "id": "1doinVAaWTmU",
        "outputId": "b95844c3-4f35-403a-ec7b-b25f9bffc228"
      },
      "execution_count": null,
      "outputs": [
        {
          "output_type": "stream",
          "name": "stdout",
          "text": [
            "Apple\n",
            "Mango\n",
            "Banana\n"
          ]
        }
      ]
    }
  ]
}